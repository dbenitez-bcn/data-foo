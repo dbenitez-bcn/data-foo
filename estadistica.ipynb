{
 "cells": [
  {
   "cell_type": "code",
   "execution_count": 4,
   "metadata": {},
   "outputs": [],
   "source": [
    "import numpy as np\n",
    "import pandas as pd\n",
    "import matplotlib.pyplot as plt"
   ]
  },
  {
   "cell_type": "code",
   "execution_count": null,
   "metadata": {},
   "outputs": [],
   "source": [
    "comida = pd.DataFrame()\n",
    "for month in [\"Enero\", \"Febrero\", \"Marzo\", \"Abril\", \"Mayo\"]:\n",
    "    dt = pd.read_csv(f\"https://docs.google.com/spreadsheets/d/1fzemYbCUpiBTbCmCyIiRgAIjCQe_fNG1EBXAaliffNw/gviz/tq?tqx=out:csv&sheet={month}&range=A13:B\")\n",
    "    comida = pd.concat([comida, dt], ignore_index=True)\n",
    "comida[\"Descripcion\"] = comida[\"Descripcion\"].apply(lambda str: str.lower().replace(\" \",\"\").capitalize())\n",
    "comida[\"Precio\"] = comida[\"Precio\"].apply(lambda str: float(str[:-2].replace(\",\", \".\")))\n",
    "comida"
   ]
  },
  {
   "cell_type": "code",
   "execution_count": 22,
   "metadata": {},
   "outputs": [
    {
     "name": "stderr",
     "output_type": "stream",
     "text": [
      "/var/folders/nr/dp7xjzd142j5d0040sf575tm0000gn/T/ipykernel_4804/2784696452.py:1: FutureWarning: Dropping of nuisance columns in DataFrame reductions (with 'numeric_only=None') is deprecated; in a future version this will raise TypeError.  Select only valid columns before calling the reduction.\n",
      "  comida.groupby(\"Descripcion\").count().reset_index().mean()\n"
     ]
    },
    {
     "data": {
      "text/plain": [
       "Precio    4.142857\n",
       "dtype: float64"
      ]
     },
     "execution_count": 22,
     "metadata": {},
     "output_type": "execute_result"
    }
   ],
   "source": [
    "comida.groupby(\"Descripcion\").count().reset_index().mean()"
   ]
  }
 ],
 "metadata": {
  "interpreter": {
   "hash": "ca54548a8efe329002a0ae70cc79fcc3eeaff64c563d4e8ba9085e1f9cf7adf0"
  },
  "kernelspec": {
   "display_name": "Python 3.9.12 ('graficos')",
   "language": "python",
   "name": "python3"
  },
  "language_info": {
   "codemirror_mode": {
    "name": "ipython",
    "version": 3
   },
   "file_extension": ".py",
   "mimetype": "text/x-python",
   "name": "python",
   "nbconvert_exporter": "python",
   "pygments_lexer": "ipython3",
   "version": "3.9.12"
  },
  "orig_nbformat": 4
 },
 "nbformat": 4,
 "nbformat_minor": 2
}
