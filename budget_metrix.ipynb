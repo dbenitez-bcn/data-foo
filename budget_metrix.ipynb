{
 "cells": [
  {
   "cell_type": "code",
   "execution_count": 35,
   "metadata": {},
   "outputs": [],
   "source": [
    "import numpy as np\n",
    "import pandas as pd\n",
    "import matplotlib.pyplot as plt\n",
    "import seaborn as sb"
   ]
  },
  {
   "cell_type": "code",
   "execution_count": 24,
   "metadata": {},
   "outputs": [],
   "source": [
    "SHEET_ID = \"1fzemYbCUpiBTbCmCyIiRgAIjCQe_fNG1EBXAaliffNw\""
   ]
  },
  {
   "cell_type": "code",
   "execution_count": 25,
   "metadata": {},
   "outputs": [],
   "source": [
    "comida = pd.DataFrame()\n",
    "for month in [\"Enero\", \"Febrero\", \"Marzo\", \"Abril\", \"Mayo\"]:\n",
    "    dt = pd.read_csv(f\"https://docs.google.com/spreadsheets/d/{SHEET_ID}/gviz/tq?tqx=out:csv&sheet={month}&range=A13:B\")\n",
    "    comida = pd.concat([comida, dt], ignore_index=True)\n",
    "comida[\"Descripcion\"] = comida[\"Descripcion\"].apply(lambda str: str.lower().replace(\" \",\"\").capitalize())\n",
    "comida[\"Precio\"] = comida[\"Precio\"].apply(lambda str: float(str[:-2].replace(\",\", \".\")))"
   ]
  },
  {
   "cell_type": "code",
   "execution_count": 26,
   "metadata": {},
   "outputs": [
    {
     "data": {
      "text/html": [
       "<div>\n",
       "<style scoped>\n",
       "    .dataframe tbody tr th:only-of-type {\n",
       "        vertical-align: middle;\n",
       "    }\n",
       "\n",
       "    .dataframe tbody tr th {\n",
       "        vertical-align: top;\n",
       "    }\n",
       "\n",
       "    .dataframe thead th {\n",
       "        text-align: right;\n",
       "    }\n",
       "</style>\n",
       "<table border=\"1\" class=\"dataframe\">\n",
       "  <thead>\n",
       "    <tr style=\"text-align: right;\">\n",
       "      <th></th>\n",
       "      <th>Supermercado</th>\n",
       "      <th>Total</th>\n",
       "      <th>Max</th>\n",
       "      <th>Min</th>\n",
       "      <th>AVG</th>\n",
       "      <th>Count</th>\n",
       "    </tr>\n",
       "  </thead>\n",
       "  <tbody>\n",
       "    <tr>\n",
       "      <th>0</th>\n",
       "      <td>Condis</td>\n",
       "      <td>229.82</td>\n",
       "      <td>41.70</td>\n",
       "      <td>1.39</td>\n",
       "      <td>17.68</td>\n",
       "      <td>13</td>\n",
       "    </tr>\n",
       "    <tr>\n",
       "      <th>1</th>\n",
       "      <td>Lidl</td>\n",
       "      <td>105.66</td>\n",
       "      <td>24.98</td>\n",
       "      <td>4.79</td>\n",
       "      <td>13.21</td>\n",
       "      <td>8</td>\n",
       "    </tr>\n",
       "    <tr>\n",
       "      <th>2</th>\n",
       "      <td>Mercadona</td>\n",
       "      <td>64.20</td>\n",
       "      <td>41.21</td>\n",
       "      <td>4.40</td>\n",
       "      <td>16.05</td>\n",
       "      <td>4</td>\n",
       "    </tr>\n",
       "    <tr>\n",
       "      <th>3</th>\n",
       "      <td>Bonpreu</td>\n",
       "      <td>15.52</td>\n",
       "      <td>12.74</td>\n",
       "      <td>2.78</td>\n",
       "      <td>7.76</td>\n",
       "      <td>2</td>\n",
       "    </tr>\n",
       "    <tr>\n",
       "      <th>4</th>\n",
       "      <td>Amatller</td>\n",
       "      <td>33.00</td>\n",
       "      <td>33.00</td>\n",
       "      <td>33.00</td>\n",
       "      <td>33.00</td>\n",
       "      <td>1</td>\n",
       "    </tr>\n",
       "    <tr>\n",
       "      <th>5</th>\n",
       "      <td>Bonarea</td>\n",
       "      <td>4.30</td>\n",
       "      <td>4.30</td>\n",
       "      <td>4.30</td>\n",
       "      <td>4.30</td>\n",
       "      <td>1</td>\n",
       "    </tr>\n",
       "  </tbody>\n",
       "</table>\n",
       "</div>"
      ],
      "text/plain": [
       "  Supermercado   Total    Max    Min    AVG  Count\n",
       "0       Condis  229.82  41.70   1.39  17.68     13\n",
       "1         Lidl  105.66  24.98   4.79  13.21      8\n",
       "2    Mercadona   64.20  41.21   4.40  16.05      4\n",
       "3      Bonpreu   15.52  12.74   2.78   7.76      2\n",
       "4     Amatller   33.00  33.00  33.00  33.00      1\n",
       "5      Bonarea    4.30   4.30   4.30   4.30      1"
      ]
     },
     "execution_count": 26,
     "metadata": {},
     "output_type": "execute_result"
    }
   ],
   "source": [
    "comidaNew = comida.groupby(\"Descripcion\").sum()\n",
    "comidaNew[\"Max\"] = comida.groupby(\"Descripcion\").max()\n",
    "comidaNew[\"Min\"] = comida.groupby(\"Descripcion\").min()\n",
    "comidaNew[\"AVG\"] = comida.groupby(\"Descripcion\").mean().round(2)\n",
    "comidaNew[\"Count\"] = comida.groupby(\"Descripcion\").count()\n",
    "comidaNew.sort_values(\"Count\", ascending=False, inplace=True)\n",
    "comidaNew.reset_index(inplace=True)\n",
    "comidaNew.rename(columns={\"Descripcion\": \"Supermercado\", \"Precio\": \"Total\"}, inplace=True)\n",
    "comidaNew"
   ]
  },
  {
   "cell_type": "code",
   "execution_count": 27,
   "metadata": {},
   "outputs": [
    {
     "data": {
      "image/png": "[encoded data removed]",
      "text/plain": [
       "<Figure size 432x288 with 1 Axes>"
      ]
     },
     "metadata": {
      "needs_background": "light"
     },
     "output_type": "display_data"
    }
   ],
   "source": [
    "plt.bar(comidaNew[\"Supermercado\"], comidaNew[\"AVG\"])\n",
    "plt.show()"
   ]
  },
  {
   "cell_type": "code",
   "execution_count": 28,
   "metadata": {},
   "outputs": [
    {
     "data": {
      "text/plain": [
       "Text(0.5, 0, 'Supermercados')"
      ]
     },
     "execution_count": 28,
     "metadata": {},
     "output_type": "execute_result"
    },
    {
     "data": {
      "image/png": "[encoded data removed]",
      "text/plain": [
       "<Figure size 1080x360 with 2 Axes>"
      ]
     },
     "metadata": {
      "needs_background": "light"
     },
     "output_type": "display_data"
    }
   ],
   "source": [
    "fig, axes = plt.subplots(1,2, figsize=(15, 5))\n",
    "axes[0].bar(comidaNew[\"Supermercado\"].sort_values(), comidaNew[\"AVG\"])\n",
    "axes[0].set_title(\"Media\")\n",
    "axes[0].set_xlabel(\"Supermercados\")\n",
    "axes[1].bar(comidaNew[\"Supermercado\"], comidaNew[\"Total\"])\n",
    "axes[1].set_title(\"Total\")\n",
    "axes[1].set_xlabel(\"Supermercados\")"
   ]
  },
  {
   "cell_type": "code",
   "execution_count": 40,
   "metadata": {},
   "outputs": [
    {
     "name": "stderr",
     "output_type": "stream",
     "text": [
      "/Users/davidbenitezriba/anaconda3/envs/graficos/lib/python3.9/site-packages/seaborn/distributions.py:2619: FutureWarning: `distplot` is a deprecated function and will be removed in a future version. Please adapt your code to use either `displot` (a figure-level function with similar flexibility) or `histplot` (an axes-level function for histograms).\n",
      "  warnings.warn(msg, FutureWarning)\n"
     ]
    },
    {
     "data": {
      "image/png": "[encoded data removed]",
      "text/plain": [
       "<Figure size 432x288 with 1 Axes>"
      ]
     },
     "metadata": {
      "needs_background": "light"
     },
     "output_type": "display_data"
    }
   ],
   "source": [
    "sb.distplot(comidaNew[\"Total\"], bins=5)"
   ]
  },
  {
   "cell_type": "code",
   "execution_count": 53,
   "metadata": {},
   "outputs": [
    {
     "name": "stderr",
     "output_type": "stream",
     "text": [
      "/Users/davidbenitezriba/anaconda3/envs/graficos/lib/python3.9/site-packages/seaborn/distributions.py:2619: FutureWarning: `distplot` is a deprecated function and will be removed in a future version. Please adapt your code to use either `displot` (a figure-level function with similar flexibility) or `histplot` (an axes-level function for histograms).\n",
      "  warnings.warn(msg, FutureWarning)\n"
     ]
    },
    {
     "data": {
      "text/plain": [
       "<AxesSubplot:xlabel='Total', ylabel='Density'>"
      ]
     },
     "execution_count": 53,
     "metadata": {},
     "output_type": "execute_result"
    },
    {
     "data": {
      "image/png": "[encoded data removed]",
      "text/plain": [
       "<Figure size 432x288 with 1 Axes>"
      ]
     },
     "metadata": {
      "needs_background": "light"
     },
     "output_type": "display_data"
    }
   ],
   "source": [
    "sb.distplot(comidaNew[\"Total\"], bins=5)"
   ]
  }
 ],
 "metadata": {
  "interpreter": {
   "hash": "ca54548a8efe329002a0ae70cc79fcc3eeaff64c563d4e8ba9085e1f9cf7adf0"
  },
  "kernelspec": {
   "display_name": "Python 3.9.12 ('graficos')",
   "language": "python",
   "name": "python3"
  },
  "language_info": {
   "codemirror_mode": {
    "name": "ipython",
    "version": 3
   },
   "file_extension": ".py",
   "mimetype": "text/x-python",
   "name": "python",
   "nbconvert_exporter": "python",
   "pygments_lexer": "ipython3",
   "version": "3.9.12"
  },
  "orig_nbformat": 4
 },
 "nbformat": 4,
 "nbformat_minor": 2
}
